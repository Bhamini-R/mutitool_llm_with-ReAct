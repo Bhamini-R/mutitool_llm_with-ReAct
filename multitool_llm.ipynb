{
 "cells": [
  {
   "cell_type": "code",
   "execution_count": 1,
   "id": "bb2c5e0f",
   "metadata": {},
   "outputs": [
    {
     "name": "stdout",
     "output_type": "stream",
     "text": [
      "hello bhams\n"
     ]
    }
   ],
   "source": [
    "print(\"hello bhams\")"
   ]
  },
  {
   "cell_type": "code",
   "execution_count": 2,
   "id": "071a9cc6",
   "metadata": {},
   "outputs": [
    {
     "name": "stdout",
     "output_type": "stream",
     "text": [
      "45\n"
     ]
    }
   ],
   "source": [
    "print(45)"
   ]
  },
  {
   "cell_type": "code",
   "execution_count": 4,
   "id": "5ea51992",
   "metadata": {},
   "outputs": [
    {
     "name": "stdout",
     "output_type": "stream",
     "text": [
      "Requirement already satisfied: pydantic in c:\\users\\m3bha\\anaconda3\\lib\\site-packages (from -r requirements.txt (line 1)) (2.5.3)\n",
      "Collecting langchain (from -r requirements.txt (line 2))\n",
      "  Using cached langchain-0.3.25-py3-none-any.whl.metadata (7.8 kB)\n",
      "Collecting langgraph (from -r requirements.txt (line 3))\n",
      "  Using cached langgraph-0.4.5-py3-none-any.whl.metadata (7.3 kB)\n",
      "Collecting langchain-core (from -r requirements.txt (line 4))\n",
      "  Using cached langchain_core-0.3.60-py3-none-any.whl.metadata (5.8 kB)\n",
      "Collecting langchain-community (from -r requirements.txt (line 5))\n",
      "  Using cached langchain_community-0.3.24-py3-none-any.whl.metadata (2.5 kB)\n",
      "Requirement already satisfied: python-dotenv in c:\\users\\m3bha\\anaconda3\\lib\\site-packages (from -r requirements.txt (line 6)) (0.21.0)\n",
      "Collecting langchain-groq (from -r requirements.txt (line 7))\n",
      "  Using cached langchain_groq-0.3.2-py3-none-any.whl.metadata (2.6 kB)\n",
      "Collecting arxiv (from -r requirements.txt (line 8))\n",
      "  Using cached arxiv-2.2.0-py3-none-any.whl.metadata (6.3 kB)\n",
      "Collecting wikipedia (from -r requirements.txt (line 9))\n",
      "  Using cached wikipedia-1.4.0.tar.gz (27 kB)\n",
      "  Preparing metadata (setup.py): started\n",
      "  Preparing metadata (setup.py): finished with status 'done'\n",
      "Requirement already satisfied: annotated-types>=0.4.0 in c:\\users\\m3bha\\anaconda3\\lib\\site-packages (from pydantic->-r requirements.txt (line 1)) (0.6.0)\n",
      "Requirement already satisfied: pydantic-core==2.14.6 in c:\\users\\m3bha\\anaconda3\\lib\\site-packages (from pydantic->-r requirements.txt (line 1)) (2.14.6)\n",
      "Requirement already satisfied: typing-extensions>=4.6.1 in c:\\users\\m3bha\\anaconda3\\lib\\site-packages (from pydantic->-r requirements.txt (line 1)) (4.11.0)\n",
      "Collecting langchain-text-splitters<1.0.0,>=0.3.8 (from langchain->-r requirements.txt (line 2))\n",
      "  Using cached langchain_text_splitters-0.3.8-py3-none-any.whl.metadata (1.9 kB)\n",
      "Collecting langsmith<0.4,>=0.1.17 (from langchain->-r requirements.txt (line 2))\n",
      "  Using cached langsmith-0.3.42-py3-none-any.whl.metadata (15 kB)\n",
      "Collecting pydantic (from -r requirements.txt (line 1))\n",
      "  Using cached pydantic-2.11.4-py3-none-any.whl.metadata (66 kB)\n",
      "Requirement already satisfied: SQLAlchemy<3,>=1.4 in c:\\users\\m3bha\\anaconda3\\lib\\site-packages (from langchain->-r requirements.txt (line 2)) (2.0.30)\n",
      "Requirement already satisfied: requests<3,>=2 in c:\\users\\m3bha\\anaconda3\\lib\\site-packages (from langchain->-r requirements.txt (line 2)) (2.32.2)\n",
      "Requirement already satisfied: PyYAML>=5.3 in c:\\users\\m3bha\\anaconda3\\lib\\site-packages (from langchain->-r requirements.txt (line 2)) (6.0.1)\n",
      "Collecting pydantic-core==2.33.2 (from pydantic->-r requirements.txt (line 1))\n",
      "  Downloading pydantic_core-2.33.2-cp312-cp312-win_amd64.whl.metadata (6.9 kB)\n",
      "Collecting typing-extensions!=4.7.0,>=4.6.0 (from pydantic-core==2.14.6->pydantic->-r requirements.txt (line 1))\n",
      "  Using cached typing_extensions-4.13.2-py3-none-any.whl.metadata (3.0 kB)\n",
      "Collecting typing-inspection>=0.4.0 (from pydantic->-r requirements.txt (line 1))\n",
      "  Using cached typing_inspection-0.4.0-py3-none-any.whl.metadata (2.6 kB)\n",
      "Collecting langgraph-checkpoint<3.0.0,>=2.0.26 (from langgraph->-r requirements.txt (line 3))\n",
      "  Using cached langgraph_checkpoint-2.0.26-py3-none-any.whl.metadata (4.6 kB)\n",
      "Collecting langgraph-prebuilt>=0.1.8 (from langgraph->-r requirements.txt (line 3))\n",
      "  Using cached langgraph_prebuilt-0.1.8-py3-none-any.whl.metadata (5.0 kB)\n",
      "Collecting langgraph-sdk>=0.1.42 (from langgraph->-r requirements.txt (line 3))\n",
      "  Using cached langgraph_sdk-0.1.69-py3-none-any.whl.metadata (1.8 kB)\n",
      "Collecting xxhash<4.0.0,>=3.5.0 (from langgraph->-r requirements.txt (line 3))\n",
      "  Downloading xxhash-3.5.0-cp312-cp312-win_amd64.whl.metadata (13 kB)\n",
      "Requirement already satisfied: tenacity!=8.4.0,<10.0.0,>=8.1.0 in c:\\users\\m3bha\\anaconda3\\lib\\site-packages (from langchain-core->-r requirements.txt (line 4)) (8.2.2)\n",
      "Requirement already satisfied: jsonpatch<2.0,>=1.33 in c:\\users\\m3bha\\anaconda3\\lib\\site-packages (from langchain-core->-r requirements.txt (line 4)) (1.33)\n",
      "Requirement already satisfied: packaging<25,>=23.2 in c:\\users\\m3bha\\anaconda3\\lib\\site-packages (from langchain-core->-r requirements.txt (line 4)) (23.2)\n",
      "Requirement already satisfied: aiohttp<4.0.0,>=3.8.3 in c:\\users\\m3bha\\anaconda3\\lib\\site-packages (from langchain-community->-r requirements.txt (line 5)) (3.9.5)\n",
      "Collecting dataclasses-json<0.7,>=0.5.7 (from langchain-community->-r requirements.txt (line 5))\n",
      "  Using cached dataclasses_json-0.6.7-py3-none-any.whl.metadata (25 kB)\n",
      "Collecting pydantic-settings<3.0.0,>=2.4.0 (from langchain-community->-r requirements.txt (line 5))\n",
      "  Using cached pydantic_settings-2.9.1-py3-none-any.whl.metadata (3.8 kB)\n",
      "Collecting httpx-sse<1.0.0,>=0.4.0 (from langchain-community->-r requirements.txt (line 5))\n",
      "  Using cached httpx_sse-0.4.0-py3-none-any.whl.metadata (9.0 kB)\n",
      "Requirement already satisfied: numpy>=1.26.2 in c:\\users\\m3bha\\anaconda3\\lib\\site-packages (from langchain-community->-r requirements.txt (line 5)) (1.26.4)\n",
      "Collecting groq<1,>=0.4.1 (from langchain-groq->-r requirements.txt (line 7))\n",
      "  Using cached groq-0.25.0-py3-none-any.whl.metadata (15 kB)\n",
      "Collecting feedparser~=6.0.10 (from arxiv->-r requirements.txt (line 8))\n",
      "  Using cached feedparser-6.0.11-py3-none-any.whl.metadata (2.4 kB)\n",
      "Requirement already satisfied: beautifulsoup4 in c:\\users\\m3bha\\anaconda3\\lib\\site-packages (from wikipedia->-r requirements.txt (line 9)) (4.12.3)\n",
      "Requirement already satisfied: aiosignal>=1.1.2 in c:\\users\\m3bha\\anaconda3\\lib\\site-packages (from aiohttp<4.0.0,>=3.8.3->langchain-community->-r requirements.txt (line 5)) (1.2.0)\n",
      "Requirement already satisfied: attrs>=17.3.0 in c:\\users\\m3bha\\anaconda3\\lib\\site-packages (from aiohttp<4.0.0,>=3.8.3->langchain-community->-r requirements.txt (line 5)) (23.1.0)\n",
      "Requirement already satisfied: frozenlist>=1.1.1 in c:\\users\\m3bha\\anaconda3\\lib\\site-packages (from aiohttp<4.0.0,>=3.8.3->langchain-community->-r requirements.txt (line 5)) (1.4.0)\n",
      "Requirement already satisfied: multidict<7.0,>=4.5 in c:\\users\\m3bha\\anaconda3\\lib\\site-packages (from aiohttp<4.0.0,>=3.8.3->langchain-community->-r requirements.txt (line 5)) (6.0.4)\n",
      "Requirement already satisfied: yarl<2.0,>=1.0 in c:\\users\\m3bha\\anaconda3\\lib\\site-packages (from aiohttp<4.0.0,>=3.8.3->langchain-community->-r requirements.txt (line 5)) (1.9.3)\n",
      "Collecting marshmallow<4.0.0,>=3.18.0 (from dataclasses-json<0.7,>=0.5.7->langchain-community->-r requirements.txt (line 5))\n",
      "  Using cached marshmallow-3.26.1-py3-none-any.whl.metadata (7.3 kB)\n",
      "Collecting typing-inspect<1,>=0.4.0 (from dataclasses-json<0.7,>=0.5.7->langchain-community->-r requirements.txt (line 5))\n",
      "  Using cached typing_inspect-0.9.0-py3-none-any.whl.metadata (1.5 kB)\n",
      "Collecting sgmllib3k (from feedparser~=6.0.10->arxiv->-r requirements.txt (line 8))\n",
      "  Using cached sgmllib3k-1.0.0.tar.gz (5.8 kB)\n",
      "  Preparing metadata (setup.py): started\n",
      "  Preparing metadata (setup.py): finished with status 'done'\n",
      "Requirement already satisfied: anyio<5,>=3.5.0 in c:\\users\\m3bha\\anaconda3\\lib\\site-packages (from groq<1,>=0.4.1->langchain-groq->-r requirements.txt (line 7)) (4.2.0)\n",
      "Requirement already satisfied: distro<2,>=1.7.0 in c:\\users\\m3bha\\anaconda3\\lib\\site-packages (from groq<1,>=0.4.1->langchain-groq->-r requirements.txt (line 7)) (1.9.0)\n",
      "Requirement already satisfied: httpx<1,>=0.23.0 in c:\\users\\m3bha\\anaconda3\\lib\\site-packages (from groq<1,>=0.4.1->langchain-groq->-r requirements.txt (line 7)) (0.27.0)\n",
      "Requirement already satisfied: sniffio in c:\\users\\m3bha\\anaconda3\\lib\\site-packages (from groq<1,>=0.4.1->langchain-groq->-r requirements.txt (line 7)) (1.3.0)\n",
      "Requirement already satisfied: jsonpointer>=1.9 in c:\\users\\m3bha\\anaconda3\\lib\\site-packages (from jsonpatch<2.0,>=1.33->langchain-core->-r requirements.txt (line 4)) (2.1)\n",
      "Collecting ormsgpack<2.0.0,>=1.8.0 (from langgraph-checkpoint<3.0.0,>=2.0.26->langgraph->-r requirements.txt (line 3))\n",
      "  Downloading ormsgpack-1.9.1-cp312-cp312-win_amd64.whl.metadata (44 kB)\n",
      "     ---------------------------------------- 0.0/44.4 kB ? eta -:--:--\n",
      "     ---------------------------------------- 0.0/44.4 kB ? eta -:--:--\n",
      "     ------------------------------------ --- 41.0/44.4 kB 2.0 MB/s eta 0:00:01\n",
      "     -------------------------------------- 44.4/44.4 kB 550.3 kB/s eta 0:00:00\n",
      "Collecting orjson>=3.10.1 (from langgraph-sdk>=0.1.42->langgraph->-r requirements.txt (line 3))\n",
      "  Downloading orjson-3.10.18-cp312-cp312-win_amd64.whl.metadata (43 kB)\n",
      "     ---------------------------------------- 0.0/43.0 kB ? eta -:--:--\n",
      "     ---------------------------------------- 43.0/43.0 kB ? eta 0:00:00\n",
      "Requirement already satisfied: requests-toolbelt<2.0.0,>=1.0.0 in c:\\users\\m3bha\\anaconda3\\lib\\site-packages (from langsmith<0.4,>=0.1.17->langchain->-r requirements.txt (line 2)) (1.0.0)\n",
      "Collecting zstandard<0.24.0,>=0.23.0 (from langsmith<0.4,>=0.1.17->langchain->-r requirements.txt (line 2))\n",
      "  Downloading zstandard-0.23.0-cp312-cp312-win_amd64.whl.metadata (3.0 kB)\n",
      "Requirement already satisfied: charset-normalizer<4,>=2 in c:\\users\\m3bha\\anaconda3\\lib\\site-packages (from requests<3,>=2->langchain->-r requirements.txt (line 2)) (2.0.4)\n",
      "Requirement already satisfied: idna<4,>=2.5 in c:\\users\\m3bha\\anaconda3\\lib\\site-packages (from requests<3,>=2->langchain->-r requirements.txt (line 2)) (3.7)\n",
      "Requirement already satisfied: urllib3<3,>=1.21.1 in c:\\users\\m3bha\\anaconda3\\lib\\site-packages (from requests<3,>=2->langchain->-r requirements.txt (line 2)) (2.2.2)\n",
      "Requirement already satisfied: certifi>=2017.4.17 in c:\\users\\m3bha\\anaconda3\\lib\\site-packages (from requests<3,>=2->langchain->-r requirements.txt (line 2)) (2024.7.4)\n",
      "Requirement already satisfied: greenlet!=0.4.17 in c:\\users\\m3bha\\anaconda3\\lib\\site-packages (from SQLAlchemy<3,>=1.4->langchain->-r requirements.txt (line 2)) (3.0.1)\n",
      "Requirement already satisfied: soupsieve>1.2 in c:\\users\\m3bha\\anaconda3\\lib\\site-packages (from beautifulsoup4->wikipedia->-r requirements.txt (line 9)) (2.5)\n",
      "Requirement already satisfied: httpcore==1.* in c:\\users\\m3bha\\anaconda3\\lib\\site-packages (from httpx<1,>=0.23.0->groq<1,>=0.4.1->langchain-groq->-r requirements.txt (line 7)) (1.0.2)\n",
      "Requirement already satisfied: h11<0.15,>=0.13 in c:\\users\\m3bha\\anaconda3\\lib\\site-packages (from httpcore==1.*->httpx<1,>=0.23.0->groq<1,>=0.4.1->langchain-groq->-r requirements.txt (line 7)) (0.14.0)\n",
      "Requirement already satisfied: mypy-extensions>=0.3.0 in c:\\users\\m3bha\\anaconda3\\lib\\site-packages (from typing-inspect<1,>=0.4.0->dataclasses-json<0.7,>=0.5.7->langchain-community->-r requirements.txt (line 5)) (1.0.0)\n",
      "Using cached langchain-0.3.25-py3-none-any.whl (1.0 MB)\n",
      "Using cached pydantic-2.11.4-py3-none-any.whl (443 kB)\n",
      "Downloading pydantic_core-2.33.2-cp312-cp312-win_amd64.whl (2.0 MB)\n",
      "   ---------------------------------------- 0.0/2.0 MB ? eta -:--:--\n",
      "   - -------------------------------------- 0.1/2.0 MB 2.0 MB/s eta 0:00:01\n",
      "   - -------------------------------------- 0.1/2.0 MB 2.0 MB/s eta 0:00:01\n",
      "   - -------------------------------------- 0.1/2.0 MB 2.0 MB/s eta 0:00:01\n",
      "   ---- ----------------------------------- 0.2/2.0 MB 1.2 MB/s eta 0:00:02\n",
      "   ---- ----------------------------------- 0.2/2.0 MB 1.2 MB/s eta 0:00:02\n",
      "   ---- ----------------------------------- 0.2/2.0 MB 1.2 MB/s eta 0:00:02\n",
      "   ------- -------------------------------- 0.4/2.0 MB 1.1 MB/s eta 0:00:02\n",
      "   ------- -------------------------------- 0.4/2.0 MB 1.1 MB/s eta 0:00:02\n",
      "   ---------- ----------------------------- 0.5/2.0 MB 1.3 MB/s eta 0:00:02\n",
      "   ----------- ---------------------------- 0.6/2.0 MB 1.3 MB/s eta 0:00:02\n",
      "   ----------- ---------------------------- 0.6/2.0 MB 1.3 MB/s eta 0:00:02\n",
      "   ------------------ --------------------- 0.9/2.0 MB 1.6 MB/s eta 0:00:01\n",
      "   --------------------- ------------------ 1.1/2.0 MB 1.8 MB/s eta 0:00:01\n",
      "   ------------------------ --------------- 1.2/2.0 MB 2.0 MB/s eta 0:00:01\n",
      "   -------------------------- ------------- 1.3/2.0 MB 2.0 MB/s eta 0:00:01\n",
      "   ------------------------------ --------- 1.5/2.0 MB 2.1 MB/s eta 0:00:01\n",
      "   ------------------------------ --------- 1.5/2.0 MB 2.1 MB/s eta 0:00:01\n",
      "   ------------------------------ --------- 1.5/2.0 MB 2.1 MB/s eta 0:00:01\n",
      "   ------------------------------ --------- 1.5/2.0 MB 2.1 MB/s eta 0:00:01\n",
      "   ------------------------------ --------- 1.5/2.0 MB 2.1 MB/s eta 0:00:01\n",
      "   ------------------------------ --------- 1.5/2.0 MB 1.6 MB/s eta 0:00:01\n",
      "   -------------------------------- ------- 1.6/2.0 MB 1.6 MB/s eta 0:00:01\n",
      "   ---------------------------------- ----- 1.7/2.0 MB 1.6 MB/s eta 0:00:01\n",
      "   -------------------------------------- - 1.9/2.0 MB 1.7 MB/s eta 0:00:01\n",
      "   ---------------------------------------  2.0/2.0 MB 1.7 MB/s eta 0:00:01\n",
      "   ---------------------------------------- 2.0/2.0 MB 1.7 MB/s eta 0:00:00\n",
      "Using cached langgraph-0.4.5-py3-none-any.whl (155 kB)\n",
      "Using cached langchain_core-0.3.60-py3-none-any.whl (437 kB)\n",
      "Using cached langchain_community-0.3.24-py3-none-any.whl (2.5 MB)\n",
      "Using cached langchain_groq-0.3.2-py3-none-any.whl (15 kB)\n",
      "Using cached arxiv-2.2.0-py3-none-any.whl (11 kB)\n",
      "Using cached dataclasses_json-0.6.7-py3-none-any.whl (28 kB)\n",
      "Using cached feedparser-6.0.11-py3-none-any.whl (81 kB)\n",
      "Using cached groq-0.25.0-py3-none-any.whl (129 kB)\n",
      "Using cached httpx_sse-0.4.0-py3-none-any.whl (7.8 kB)\n",
      "Using cached langchain_text_splitters-0.3.8-py3-none-any.whl (32 kB)\n",
      "Using cached langgraph_checkpoint-2.0.26-py3-none-any.whl (44 kB)\n",
      "Using cached langgraph_prebuilt-0.1.8-py3-none-any.whl (25 kB)\n",
      "Using cached langgraph_sdk-0.1.69-py3-none-any.whl (48 kB)\n",
      "Using cached langsmith-0.3.42-py3-none-any.whl (360 kB)\n",
      "Using cached pydantic_settings-2.9.1-py3-none-any.whl (44 kB)\n",
      "Using cached typing_extensions-4.13.2-py3-none-any.whl (45 kB)\n",
      "Using cached typing_inspection-0.4.0-py3-none-any.whl (14 kB)\n",
      "Downloading xxhash-3.5.0-cp312-cp312-win_amd64.whl (30 kB)\n",
      "Using cached marshmallow-3.26.1-py3-none-any.whl (50 kB)\n",
      "Downloading orjson-3.10.18-cp312-cp312-win_amd64.whl (134 kB)\n",
      "   ---------------------------------------- 0.0/134.8 kB ? eta -:--:--\n",
      "   ---------------------------------------- 134.8/134.8 kB 7.8 MB/s eta 0:00:00\n",
      "Downloading ormsgpack-1.9.1-cp312-cp312-win_amd64.whl (125 kB)\n",
      "   ---------------------------------------- 0.0/125.4 kB ? eta -:--:--\n",
      "   ---------------------------------------  122.9/125.4 kB 3.5 MB/s eta 0:00:01\n",
      "   ---------------------------------------- 125.4/125.4 kB 2.4 MB/s eta 0:00:00\n",
      "Using cached typing_inspect-0.9.0-py3-none-any.whl (8.8 kB)\n",
      "Downloading zstandard-0.23.0-cp312-cp312-win_amd64.whl (495 kB)\n",
      "   ---------------------------------------- 0.0/495.6 kB ? eta -:--:--\n",
      "   --------- ------------------------------ 122.9/495.6 kB 3.6 MB/s eta 0:00:01\n",
      "   ---------------------------- ----------- 358.4/495.6 kB 4.5 MB/s eta 0:00:01\n",
      "   ---------------------------------------  491.5/495.6 kB 4.4 MB/s eta 0:00:01\n",
      "   ---------------------------------------  491.5/495.6 kB 4.4 MB/s eta 0:00:01\n",
      "   ---------------------------------------- 495.6/495.6 kB 2.8 MB/s eta 0:00:00\n",
      "Building wheels for collected packages: wikipedia, sgmllib3k\n",
      "  Building wheel for wikipedia (setup.py): started\n",
      "  Building wheel for wikipedia (setup.py): finished with status 'done'\n",
      "  Created wheel for wikipedia: filename=wikipedia-1.4.0-py3-none-any.whl size=11706 sha256=b89557a2c449eb2c32da8938866a0e470fa0a8cd1c5171caa56907966fee9f0e\n",
      "  Stored in directory: c:\\users\\m3bha\\appdata\\local\\pip\\cache\\wheels\\63\\47\\7c\\a9688349aa74d228ce0a9023229c6c0ac52ca2a40fe87679b8\n",
      "  Building wheel for sgmllib3k (setup.py): started\n",
      "  Building wheel for sgmllib3k (setup.py): finished with status 'done'\n",
      "  Created wheel for sgmllib3k: filename=sgmllib3k-1.0.0-py3-none-any.whl size=6060 sha256=36e625da7e5969957c6c72db9c0a070d42e5e2f7af3d24fc5e07279914f920a5\n",
      "  Stored in directory: c:\\users\\m3bha\\appdata\\local\\pip\\cache\\wheels\\03\\f5\\1a\\23761066dac1d0e8e683e5fdb27e12de53209d05a4a37e6246\n",
      "Successfully built wikipedia sgmllib3k\n",
      "Installing collected packages: sgmllib3k, zstandard, xxhash, typing-extensions, ormsgpack, orjson, marshmallow, httpx-sse, feedparser, wikipedia, typing-inspection, typing-inspect, pydantic-core, arxiv, pydantic, langgraph-sdk, dataclasses-json, pydantic-settings, langsmith, groq, langchain-core, langgraph-checkpoint, langchain-text-splitters, langchain-groq, langgraph-prebuilt, langchain, langgraph, langchain-community\n",
      "  Attempting uninstall: zstandard\n",
      "    Found existing installation: zstandard 0.22.0\n",
      "    Uninstalling zstandard-0.22.0:\n",
      "      Successfully uninstalled zstandard-0.22.0\n",
      "  Attempting uninstall: typing-extensions\n",
      "    Found existing installation: typing_extensions 4.11.0\n",
      "    Uninstalling typing_extensions-4.11.0:\n",
      "      Successfully uninstalled typing_extensions-4.11.0\n",
      "  Attempting uninstall: pydantic-core\n",
      "    Found existing installation: pydantic_core 2.14.6\n",
      "    Uninstalling pydantic_core-2.14.6:\n",
      "      Successfully uninstalled pydantic_core-2.14.6\n",
      "  Attempting uninstall: pydantic\n",
      "    Found existing installation: pydantic 2.5.3\n",
      "    Uninstalling pydantic-2.5.3:\n",
      "      Successfully uninstalled pydantic-2.5.3\n",
      "Successfully installed arxiv-2.2.0 dataclasses-json-0.6.7 feedparser-6.0.11 groq-0.25.0 httpx-sse-0.4.0 langchain-0.3.25 langchain-community-0.3.24 langchain-core-0.3.60 langchain-groq-0.3.2 langchain-text-splitters-0.3.8 langgraph-0.4.5 langgraph-checkpoint-2.0.26 langgraph-prebuilt-0.1.8 langgraph-sdk-0.1.69 langsmith-0.3.42 marshmallow-3.26.1 orjson-3.10.18 ormsgpack-1.9.1 pydantic-2.11.4 pydantic-core-2.33.2 pydantic-settings-2.9.1 sgmllib3k-1.0.0 typing-extensions-4.13.2 typing-inspect-0.9.0 typing-inspection-0.4.0 wikipedia-1.4.0 xxhash-3.5.0 zstandard-0.23.0\n",
      "Note: you may need to restart the kernel to use updated packages.\n"
     ]
    }
   ],
   "source": [
    "%pip install -r requirements.txt"
   ]
  },
  {
   "cell_type": "code",
   "execution_count": 5,
   "id": "49543935",
   "metadata": {},
   "outputs": [],
   "source": [
    "# Tools  \n",
    "from langchain_community.tools.arxiv.tool import ArxivQueryRun\n",
    "from langchain_community.tools.wikipedia.tool import WikipediaQueryRun\n",
    "from langchain_community.utilities import WikipediaAPIWrapper, ArxivAPIWrapper"
   ]
  },
  {
   "cell_type": "code",
   "execution_count": 6,
   "id": "6efb57f1",
   "metadata": {},
   "outputs": [
    {
     "name": "stdout",
     "output_type": "stream",
     "text": [
      "arxiv\n"
     ]
    }
   ],
   "source": [
    "api_wrapper_arxiv = ArxivAPIWrapper(top_k_results=2,doc_content_chars_max=500)\n",
    "arxiv = ArxivQueryRun(api_wrapper=api_wrapper_arxiv, description=\"Query Arxiv papers\")     # making the tools required using the API wrappers\n",
    "print(arxiv.name)"
   ]
  },
  {
   "cell_type": "code",
   "execution_count": 7,
   "id": "d6be2181",
   "metadata": {},
   "outputs": [
    {
     "data": {
      "text/plain": [
       "'Published: 2025-05-15\\nTitle: Plasticity as the Mirror of Empowerment\\nAuthors: David Abel, Michael Bowling, André Barreto, Will Dabney, Shi Dong, Steven Hansen, Anna Harutyunyan, Khimya Khetarpal, Clare Lyle, Razvan Pascanu, Georgios Piliouras, Doina Precup, Jonathan Richens, Mark Rowland, Tom Schaul, Satinder Singh\\nSummary: Agents are minimally entities that are influenced by their past observations\\nand act to influence future observations. This latter capacity is captured by\\nempowerment, which '"
      ]
     },
     "execution_count": 7,
     "metadata": {},
     "output_type": "execute_result"
    }
   ],
   "source": [
    "arxiv.invoke(\"Plasticity as the Mirror of Empowerment\")"
   ]
  },
  {
   "cell_type": "code",
   "execution_count": 8,
   "id": "5fd8bfcf",
   "metadata": {},
   "outputs": [
    {
     "name": "stdout",
     "output_type": "stream",
     "text": [
      "wikipedia\n"
     ]
    }
   ],
   "source": [
    "api_wrapper_wiki = WikipediaAPIWrapper(top_k_results=1,doc_content_chars_max=500)\n",
    "wiki = WikipediaQueryRun(api_wrapper=api_wrapper_wiki, description=\"Query Wikipedia articles\")   # making the wiki tools using API too\n",
    "print(wiki.name)"
   ]
  },
  {
   "cell_type": "code",
   "execution_count": 9,
   "id": "498eeff5",
   "metadata": {},
   "outputs": [
    {
     "data": {
      "text/plain": [
       "'Page: Dyslexia\\nSummary: Dyslexia, previously known as word blindness, is a learning disability that affects either reading or writing. Different people are affected to different degrees. Problems may include difficulties in spelling words, reading quickly, writing words, \"sounding out\" words in the head, pronouncing words when reading aloud and understanding what one reads. Often these difficulties are first noticed at school. The difficulties are involuntary, and people with this disorder have '"
      ]
     },
     "execution_count": 9,
     "metadata": {},
     "output_type": "execute_result"
    }
   ],
   "source": [
    "wiki.invoke(\"Dislexia\")"
   ]
  },
  {
   "cell_type": "code",
   "execution_count": 10,
   "id": "5e4eeb0c",
   "metadata": {},
   "outputs": [],
   "source": [
    "from dotenv import load_dotenv\n",
    "load_dotenv()\n",
    "\n",
    "import os\n",
    "\n",
    "os.environ[\"TAVILY_API_KEY\"] = os.getenv(\"TAVILY_API_KEY\")   # Tavily is more like a search engine for answering questions.like google, using its API\n",
    "os.environ[\"GROQ_API_KEY\"] =os.getenv(\"GROQ_API_KEY\") "
   ]
  },
  {
   "cell_type": "code",
   "execution_count": 11,
   "id": "3f73ba58",
   "metadata": {},
   "outputs": [],
   "source": [
    "from langchain_community.tools.tavily_search import TavilySearchResults\n",
    "\n",
    "tavily = TavilySearchResults()"
   ]
  },
  {
   "cell_type": "code",
   "execution_count": 12,
   "id": "ce699dcb",
   "metadata": {},
   "outputs": [
    {
     "data": {
      "text/plain": [
       "[{'title': 'DeepSeek (深度求索): Latest News and Updates',\n",
       "  'url': 'https://www.scmp.com/topics/deepseek',\n",
       "  'content': 'The latest speculation includes R2’s imminent launch and the new benchmarks that it set in terms of cost-efficiency and performance.\\n\\nAkeso shares slump despite second China approval for lung cancer drug\\n\\nChinese regulator grants second approval for lung cancer drug ivonescimab, which has outperformed Merck’s Keytruda in phase three trial.\\n\\nBaidu offers new AI models at lower cost than DeepSeek’s products [...] The technology is already ‘providing new ideas and approaches’ according to the lead designer at the Shenyang Aircraft Design Institute.\\n\\nDeepSeek’s new maths-solving model is generating buzz, but mostly about R2\\n\\nThe Prover-V2 release has captured attention online, with many on social media wondering what it means for the start-up’s next reasoning model.\\n\\nAlibaba’s Qwen3 AI model family helps narrow US-China tech gap: analysts [...] Chinese customers have been notified by Nvidia that it aims to release the downgraded version of the H20 chip in July, sources say.\\n\\nDeepSeek’s AI system gets faster with Tencent’s open-source boost\\n\\nThe leading Chinese AI start-up has adopted an open-source technical solution from Tencent, leading to a ‘huge speed boost’.\\n\\nAlibaba’s Qwen3 unseats DeepSeek’s R1 as world’s top-ranked open-source AI model',\n",
       "  'score': 0.8190992},\n",
       " {'title': \"China's DeepSeek Launches New AI Model—Here's What To Know\",\n",
       "  'url': 'https://www.forbes.com/sites/tylerroush/2025/03/25/deepseek-launches-ai-model-upgrade-amid-openai-rivalry-heres-what-to-know/',\n",
       "  'content': \"The latest update included “significant improvements” across several benchmark tests for the language model, DeepSeek said, in addition to upgrades to front-end web development, Chinese writing proficiency—with new features like “interactive rewriting,” according to the company—and Chinese search capabilities like “enhanced report analysis.” [...] The Chinese AI company said its latest model demonstrated “significant improvements” in benchmark ... More performance.\\n\\nKey Facts\\n\\nDeepSeek launched an upgrade to its V3 large language model, DeepSeek-V3-0324, on the AI development platform Hugging Face on Tuesday, which the startup marketed as including improvements in reasoning and coding capabilities over its earlier V3 model. [...] Get Forbes Breaking News Text Alerts: We’re launching text message alerts so you'll always know the biggest stories shaping the day’s headlines. Text “Alerts” to (201) 335-0739 or sign up here.\\n\\nWhat To Watch For\\n\\nWhether the latest DeepSeek model impacts U.S. tech stocks. Shares for Nvidia dropped by 1.2% as of 9:35 a.m. EDT, while other stocks like Broadcom (0.6%) and Tesla (0.3%) declined slightly. Apple (0.3%), Meta (0.7%) and Microsoft (0.3%) were up Tuesday morning.\\n\\nWhat Is Deepseek?\",\n",
       "  'score': 0.8127637},\n",
       " {'title': \"DeepSeek News | Today's Latest Stories - Reuters\",\n",
       "  'url': 'https://www.reuters.com/technology/deepseek/',\n",
       "  'content': \"Chinese tech giant Tencent on Thursday released a new AI model that it says can answer queries faster than global hit DeepSeek's R1, in the latest sign the\",\n",
       "  'score': 0.8047902},\n",
       " {'title': 'Moolenaar, Krishnamoorthi Unveil Explosive Report on Chinese AI ...',\n",
       "  'url': 'http://selectcommitteeontheccp.house.gov/media/press-releases/moolenaar-krishnamoorthi-unveil-explosive-report-chinese-ai-firm-deepseek',\n",
       "  'content': 'Titled, “DeepSeek Unmasked: Exposing the CCP’s Latest Tool For Spying, Stealing, and Subverting U.S. Export Control Restrictions,” the bipartisan report reveals that DeepSeek covertly funnels American user data to the Chinese Communist Party, manipulates information to align with CCP propaganda, and was trained using\\xa0material unlawfully obtained from\\xa0U.S. AI models. The report also\\xa0highlights reporting\\xa0that DeepSeek operates on tens of thousands of Nvidia chips—some of which are subject to U.S. [...] Moolenaar, Krishnamoorthi Unveil Explosive Report on Chinese AI Firm DeepSeek — Demand Answers from Nvidia Over Chip Use\\n\\nWASHINGTON, D.C. – Today, Chairman John Moolenaar (R-MI) and Ranking Member Raja Krishnamoorthi (D-IL) of the House Select Committee on China released a new investigative report exposing DeepSeek, a Chinese artificial intelligence platform, as a serious national security threat to the United States.',\n",
       "  'score': 0.7323053},\n",
       " {'title': 'How Deepseek is Changing the AI Landscape',\n",
       "  'url': 'https://news.gsu.edu/2025/02/04/how-deepseek-is-changing-the-a-i-landscape/',\n",
       "  'content': 'On Monday January 27, a little known Chinese start-up called Deepseek sent shockwaves and panic through Silicon Valley and the global stock market with the launch of their generative artificial intelligence(AI) model that rivals the models of tech giants like OpenAI, Meta and Google. It’s AI assistant became the no. 1 downloaded app in the U.S., surprising an industry that assumed only big Western companies could dominate AI. Many AI-related stocks, including Nvidia, took a hit as investors [...] Filed Under: Academic Unit News\\n\\nPrimary Sidebar\\n\\nRecent Stories\\n\\nNew Study Reveals Generative AI Boosts Job Growth and Productivity\\n\\nTen Graduate Students Present at Prestigious Analytics Conference\\n\\nCongratulations, Robinson College Class of Spring 2025!\\n\\nUndergrad Finance Students Have $1.4 Million on the Line\\n\\nMaster’s in Information Systems Alumnus Builds AI-Powered Tools for ADP\\n\\nRobinson College of Business\\nNews Hub\\n\\nSend this to a friend [...] Main navigation\\n\\nGeorgia State News Hub\\n\\nMain navigation\\n\\nHow Deepseek is Changing the AI Landscape\\n\\nHow Deepseek is Changing the AI Landscape\\n\\nFebruary 4, 2025\\n\\nMedia Contact\\n\\nHolly Frew\\n\\nOffice of Communications & MarketingRobinson College of Business\\n\\n[email\\xa0protected]',\n",
       "  'score': 0.7040996}]"
      ]
     },
     "execution_count": 12,
     "metadata": {},
     "output_type": "execute_result"
    }
   ],
   "source": [
    "tavily.invoke(\"what is the latest news about deepseek?\")"
   ]
  },
  {
   "cell_type": "code",
   "execution_count": 13,
   "id": "c5156040",
   "metadata": {},
   "outputs": [],
   "source": [
    "# Combining all these tools in the list\n",
    "tools = [arxiv, wiki, tavily]"
   ]
  },
  {
   "cell_type": "code",
   "execution_count": 14,
   "id": "cfa5f1eb",
   "metadata": {},
   "outputs": [],
   "source": [
    "# Initialize the LLM model\n",
    "\n",
    "from langchain_groq import ChatGroq\n",
    "\n",
    "llm = ChatGroq(                                     #LLM model used here is groq's ChatGroq qwen-qwq-32b \n",
    "    model=\"qwen-qwq-32b\"\n",
    ")"
   ]
  },
  {
   "cell_type": "code",
   "execution_count": 15,
   "id": "65e2a116",
   "metadata": {},
   "outputs": [
    {
     "data": {
      "text/plain": [
       "AIMessage(content='\\n<think>\\nOkay, so the user is asking, \"What is LLM?\" Alright, let me start by recalling what I know. LLM stands for Large Language Model. But wait, maybe I should double-check that. Hmm, yes, I think that\\'s right. So, first, I need to explain what a language model is. A language model is a type of AI that\\'s designed to understand and generate human language. But specifically, LLMs are the big ones, right? They have a lot of parameters. Parameters in machine learning terms are the variables the model learns from the data. So, LLMs have millions or billions of them.\\n\\nNow, why are they called \"large\"? Probably because of the vast amount of data they\\'re trained on. They use huge datasets from the internet, books, articles, etc. That\\'s how they learn to generate coherent text. Examples of LLMs include models like GPT, BERT, and others from companies like OpenAI, Google, and Meta. Wait, but the user might not know those names, so maybe I should mention a few examples but not get too technical.\\n\\nI should also mention their capabilities. They can do things like writing stories, composing emails, coding, and even understanding context. But I should note that they have limitations too. Like, they might not always be accurate or have up-to-date information. Also, there are ethical concerns, such as generating biased content or misinformation. Oh, right, and their training data is usually up to a certain cutoff date, so they can\\'t know things that happened after that.\\n\\nThe user might be asking because they\\'ve heard the term but aren\\'t familiar with the specifics. Maybe they\\'re a student or someone just starting to learn about AI. So, I should explain in simple terms without too much jargon. Let me structure it step by step. Start with the acronym, then define what a language model is, explain the \"large\" part, mention examples, applications, and then the limitations and ethical issues. That should cover the basics without overwhelming them.\\n\\nWait, also, maybe explain a bit about how they work. Like, they predict the next word in a sentence based on prior words. But maybe that\\'s too technical. Hmm. Maybe keep it high-level. But to ensure clarity, perhaps a brief mention of how they process input and generate output. \\n\\nAlso, mention that they are machine learning models, specifically neural networks. But again, maybe keep it simple. Let me see. The user could be looking for a straightforward definition, so I should prioritize that first, then add context. Let\\'s outline the structure:\\n\\n1. Definition of LLM (Large Language Model)\\n2. Explanation of what a language model does\\n3. What makes them \"large\" (parameters, data size)\\n4. Examples (GPT, BERT, etc.)\\n5. Applications (writing, coding, customer service, etc.)\\n6. Limitations (accuracy, bias, data cutoff)\\n7. Ethical considerations (misuse, misinformation)\\n\\nThat seems comprehensive. Let me make sure not to miss any key points. Also, maybe mention that they are trained on a diverse range of internet text, which helps them understand various topics. But also, that diversity can lead to varied quality and potential biases from the training data.\\n\\nAnother point: LLMs can be fine-tuned for specific tasks, so they\\'re versatile. Like, GPT can write stories, but with fine-tuning, it can also be used for customer support chatbots. \\n\\nWait, maybe the user is a developer thinking about using an LLM, so mentioning applications could be useful. But since the question is \"what is LLM?\", the focus should be on the definition, components, and basic understanding.\\n\\nI should also clarify that LLMs are not just for generating text; they can answer questions, translate languages, perform logical reasoning, and even create art or music in some cases. Although maybe that\\'s stretching it—some models do that, but the primary function is text-based.\\n\\nAlso, touch on the fact that they require significant computational resources both to train and deploy. That\\'s why they\\'re typically developed by large companies with the necessary infrastructure.\\n\\nAlright, putting it all together in a clear, concise answer. Avoid acronyms unless explained. Make sure each part flows logically. Start with the definition, then break down each component. Use examples to make it concrete. Address both the positives and the caveats. That should cover the user\\'s question effectively.\\n</think>\\n\\n**LLM stands for Large Language Model**, which is a type of artificial intelligence (AI) system designed to understand and generate human-like text. Here\\'s a breakdown of what LLMs are and their key features:\\n\\n---\\n\\n### 1. **What is a Language Model?**\\n   - A **language model** is an AI algorithm trained to predict and generate text based on patterns learned from large datasets. It can:\\n     - Compose sentences, paragraphs, or entire documents.\\n     - Answer questions, write stories, code, or even perform logical reasoning.\\n     - Understand context and infer meaning from input text.\\n\\n---\\n\\n### 2. **Why \"Large\"?**\\n   - **Size**: LLMs are distinguished by their **scale**:\\n     - **Parameters**: They have billions of parameters (variables the model adjusts during training), making them highly capable but requiring significant computational power.\\n     - **Training Data**: Trained on massive datasets (e.g., books, websites, articles, and code) to learn diverse topics and language styles.\\n   - **Capabilities**: Their large size allows them to perform complex tasks with greater accuracy and creativity than smaller models.\\n\\n---\\n\\n### 3. **Examples of LLMs**\\n   - **GPT (Generative Pre-trained Transformer)** by OpenAI (e.g., GPT-3, GPT-4).\\n   - **BERT** by Google (primarily for understanding context).\\n   - **Turing-NLG, PaLM** (Google), **Llama** (Meta), and **BLOOM** (open-source).\\n\\n---\\n\\n### 4. **Key Applications**\\n   - **Content Creation**: Writing articles, stories, or social media posts.\\n   - **Customer Service**: Powering chatbots for automated support.\\n   - **Programming**: Assisting with coding (e.g., GitHub Copilot).\\n   - **Research**: Summarizing papers or generating hypotheses.\\n   - **Education**: Personalized learning tools or language tutoring.\\n\\n---\\n\\n### 5. **How Do They Work?**\\n   - **Training**: LLMs are trained on unstructured text data to learn grammar, semantics, and context.\\n   - **Generation**: When given a prompt (e.g., a question or topic), they predict the most likely next words, creating coherent outputs.\\n   - **Fine-Tuning**: Many LLMs are \"fine-tuned\" for specific tasks (e.g., medical or legal text).\\n\\n---\\n\\n### 6. **Limitations & Challenges**\\n   - **Accuracy**: Can occasionally produce errors, hallucinations (made-up information), or biased outputs based on training data.\\n   - **Data Bias**: Reflects biases present in their training data (e.g., stereotypes or outdated views).\\n   - **Ethical Concerns**: Risks include spreading misinformation, enabling harmful content, or privacy issues.\\n   - **Cutoff Date**: LLMs’ knowledge is limited to their training data, which typically stops at a certain point (e.g., early 2023 for some models).\\n\\n---\\n\\n### 7. **Why Are LLMs Important?**\\n   - **Versatility**: They can adapt to diverse tasks without needing task-specific training.\\n   - **Advances in AI**: Represent a leap in natural language processing (NLP) and generative AI.\\n   - **Accessibility**: Companies like OpenAI and Meta offer APIs for developers to integrate LLMs into apps.\\n\\n---\\n\\n### 8. **Ethical and Societal Impact**\\n   - **Pros**: Boosts productivity, aids in creative writing, and democratizes access to AI tools.\\n   - **Cons**: Risks include misuse for deepfakes, automated spam, or reinforcement of societal biases.\\n\\n---\\n\\n### **In Summary**\\nLLMs are powerful AI systems capable of generating and understanding human language at scale. While they revolutionize fields like content creation and customer service, their use requires careful oversight to mitigate ethical risks. Think of them as advanced \"text processors\" that learn from massive data to mimic human-like communication.\\n\\nIf you\\'re interested in specific LLMs or use cases, let me know!', additional_kwargs={}, response_metadata={'token_usage': {'completion_tokens': 1759, 'prompt_tokens': 15, 'total_tokens': 1774, 'completion_time': 4.295573354, 'prompt_time': 0.002888774, 'queue_time': 0.241063445, 'total_time': 4.298462128}, 'model_name': 'qwen-qwq-32b', 'system_fingerprint': 'fp_512a3da6bb', 'finish_reason': 'stop', 'logprobs': None}, id='run--15d04511-a4c2-4419-ba09-ed7ac922cc43-0', usage_metadata={'input_tokens': 15, 'output_tokens': 1759, 'total_tokens': 1774})"
      ]
     },
     "execution_count": 15,
     "metadata": {},
     "output_type": "execute_result"
    }
   ],
   "source": [
    "llm.invoke(\"What is llm?\")"
   ]
  },
  {
   "cell_type": "code",
   "execution_count": 16,
   "id": "2e785a43",
   "metadata": {},
   "outputs": [],
   "source": [
    "llm_with_tools = llm.bind_tools(tools=tools)"
   ]
  },
  {
   "cell_type": "code",
   "execution_count": 17,
   "id": "218eefcd",
   "metadata": {},
   "outputs": [
    {
     "data": {
      "text/plain": [
       "AIMessage(content='', additional_kwargs={'tool_calls': [{'id': 'call_764p', 'function': {'arguments': '{\"query\": \"recent news about DeepSeek\"}', 'name': 'tavily_search_results_json'}, 'type': 'function'}]}, response_metadata={'token_usage': {'completion_tokens': 236, 'prompt_tokens': 324, 'total_tokens': 560, 'completion_time': 0.575348318, 'prompt_time': 0.020063468, 'queue_time': 0.248391862, 'total_time': 0.595411786}, 'model_name': 'qwen-qwq-32b', 'system_fingerprint': 'fp_512a3da6bb', 'finish_reason': 'tool_calls', 'logprobs': None}, id='run--6adbed92-fcef-424f-bc54-b03b72ea119c-0', tool_calls=[{'name': 'tavily_search_results_json', 'args': {'query': 'recent news about DeepSeek'}, 'id': 'call_764p', 'type': 'tool_call'}], usage_metadata={'input_tokens': 324, 'output_tokens': 236, 'total_tokens': 560})"
      ]
     },
     "execution_count": 17,
     "metadata": {},
     "output_type": "execute_result"
    }
   ],
   "source": [
    "\n",
    "llm_with_tools.invoke(\"What is the recent news about deepseek?\")"
   ]
  },
  {
   "cell_type": "markdown",
   "id": "26b15cd2",
   "metadata": {},
   "source": [
    "#Similarly examples of calling arxiv and wikipedia tools"
   ]
  },
  {
   "cell_type": "code",
   "execution_count": 18,
   "id": "9c666683",
   "metadata": {},
   "outputs": [
    {
     "data": {
      "text/plain": [
       "AIMessage(content='', additional_kwargs={'tool_calls': [{'id': 'call_pac5', 'function': {'arguments': '{\"query\": \"agentic AI recent\"}', 'name': 'arxiv'}, 'type': 'function'}]}, response_metadata={'token_usage': {'completion_tokens': 249, 'prompt_tokens': 326, 'total_tokens': 575, 'completion_time': 0.604717227, 'prompt_time': 0.020289803, 'queue_time': 0.25291968600000003, 'total_time': 0.62500703}, 'model_name': 'qwen-qwq-32b', 'system_fingerprint': 'fp_3796682456', 'finish_reason': 'tool_calls', 'logprobs': None}, id='run--950d0181-8022-4f29-a2df-e5a1541226eb-0', tool_calls=[{'name': 'arxiv', 'args': {'query': 'agentic AI recent'}, 'id': 'call_pac5', 'type': 'tool_call'}], usage_metadata={'input_tokens': 326, 'output_tokens': 249, 'total_tokens': 575})"
      ]
     },
     "execution_count": 18,
     "metadata": {},
     "output_type": "execute_result"
    }
   ],
   "source": [
    "llm_with_tools.invoke(\"Give me a recent research paper on agentic ai?\")     ##arxiv"
   ]
  },
  {
   "cell_type": "code",
   "execution_count": 19,
   "id": "8d47a6f7",
   "metadata": {},
   "outputs": [
    {
     "data": {
      "text/plain": [
       "AIMessage(content='', additional_kwargs={'tool_calls': [{'id': 'call_6cwx', 'function': {'arguments': '{\"query\": \"Deep reinforcement learning\"}', 'name': 'wikipedia'}, 'type': 'function'}]}, response_metadata={'token_usage': {'completion_tokens': 496, 'prompt_tokens': 323, 'total_tokens': 819, 'completion_time': 1.226085092, 'prompt_time': 0.0223178, 'queue_time': 0.24610344, 'total_time': 1.248402892}, 'model_name': 'qwen-qwq-32b', 'system_fingerprint': 'fp_512a3da6bb', 'finish_reason': 'tool_calls', 'logprobs': None}, id='run--6003d4d7-a69c-4bfd-a266-06d27881504f-0', tool_calls=[{'name': 'wikipedia', 'args': {'query': 'Deep reinforcement learning'}, 'id': 'call_6cwx', 'type': 'tool_call'}], usage_metadata={'input_tokens': 323, 'output_tokens': 496, 'total_tokens': 819})"
      ]
     },
     "execution_count": 19,
     "metadata": {},
     "output_type": "execute_result"
    }
   ],
   "source": [
    "llm_with_tools.invoke(\"What is  deep Reinforcement Learning?\")     ##Wikipedia"
   ]
  },
  {
   "cell_type": "markdown",
   "id": "246a9c36",
   "metadata": {},
   "source": [
    "Also in some relevant cases, the LLM can directly give the response to the user's question, instead of calling a tool."
   ]
  },
  {
   "cell_type": "code",
   "execution_count": 20,
   "id": "0a9a22eb",
   "metadata": {},
   "outputs": [
    {
     "data": {
      "text/plain": [
       "AIMessage(content=\"I'm here to help you with any information or tasks you need assistance with. How can I assist you today?\", additional_kwargs={}, response_metadata={'token_usage': {'completion_tokens': 133, 'prompt_tokens': 319, 'total_tokens': 452, 'completion_time': 0.33001489, 'prompt_time': 0.024801243, 'queue_time': 0.247279557, 'total_time': 0.354816133}, 'model_name': 'qwen-qwq-32b', 'system_fingerprint': 'fp_3796682456', 'finish_reason': 'stop', 'logprobs': None}, id='run--30e3581d-600d-44f7-9bee-1c9f16a181bc-0', usage_metadata={'input_tokens': 319, 'output_tokens': 133, 'total_tokens': 452})"
      ]
     },
     "execution_count": 20,
     "metadata": {},
     "output_type": "execute_result"
    }
   ],
   "source": [
    "llm_with_tools.invoke(\"how are you?\")"
   ]
  },
  {
   "cell_type": "markdown",
   "id": "69cbf1ac",
   "metadata": {},
   "source": [
    "WORKFLOW"
   ]
  },
  {
   "cell_type": "code",
   "execution_count": 21,
   "id": "5f391654",
   "metadata": {},
   "outputs": [],
   "source": [
    "# State schema\n",
    "from typing_extensions import TypedDict  \n",
    "from langchain_core.messages import AnyMessage #Human Message or AI Message\n",
    "from typing import Annotated  #labelling\n",
    "from langgraph.graph.message import add_messages  #Reducers in langgraph"
   ]
  },
  {
   "cell_type": "code",
   "execution_count": 22,
   "id": "428760be",
   "metadata": {},
   "outputs": [],
   "source": [
    "class State(TypedDict):\n",
    "    messages: Annotated[list[AnyMessage], add_messages]"
   ]
  },
  {
   "cell_type": "code",
   "execution_count": 23,
   "id": "bc2eb2d2",
   "metadata": {},
   "outputs": [],
   "source": [
    "# Entire Chatbot using LangGraph\n",
    "from IPython.display import display, Image\n",
    "from langgraph.graph import StateGraph, START, END\n",
    "from langgraph.prebuilt import ToolNode\n",
    "from langgraph.prebuilt import tools_condition"
   ]
  },
  {
   "cell_type": "code",
   "execution_count": 24,
   "id": "de44b51b",
   "metadata": {},
   "outputs": [
    {
     "data": {
      "image/png": "[encoded data removed]",
      "text/plain": [
       "<IPython.core.display.Image object>"
      ]
     },
     "metadata": {},
     "output_type": "display_data"
    }
   ],
   "source": [
    "# node definition\n",
    "\n",
    "def tool_calling_llm(state:State):\n",
    "    return {\"messages\": [llm_with_tools.invoke(state[\"messages\"])]}\n",
    "\n",
    "#Build the graph\n",
    "builder = StateGraph(State)\n",
    "builder.add_node(\"tool_calling_llm\", tool_calling_llm)\n",
    "builder.add_node(\"tools\", ToolNode(tools))\n",
    "\n",
    "#Edges\n",
    "builder.add_edge(START, \"tool_calling_llm\")\n",
    "builder.add_conditional_edges(\n",
    "    \"tool_calling_llm\",\n",
    "    #If the latest message (result) from assistant is a tool call -> tool condition routes to tools\n",
    "    #If the latest message (result) from assistant is not a tool call -> tools condition routes to tool_calling_llm\n",
    "    tools_condition,\n",
    ")\n",
    "\n",
    "builder.add_edge(\"tools\", END)\n",
    "\n",
    "graph = builder.compile()\n",
    "\n",
    "# View\n",
    "display(Image(graph.get_graph().draw_mermaid_png()))"
   ]
  },
  {
   "cell_type": "code",
   "execution_count": 25,
   "id": "b224a561",
   "metadata": {},
   "outputs": [
    {
     "name": "stdout",
     "output_type": "stream",
     "text": [
      "================================\u001b[1m Human Message \u001b[0m=================================\n",
      "\n",
      "2505.10468\n",
      "==================================\u001b[1m Ai Message \u001b[0m==================================\n",
      "Tool Calls:\n",
      "  arxiv (call_xbfv)\n",
      " Call ID: call_xbfv\n",
      "  Args:\n",
      "    query: 2505.10468\n",
      "=================================\u001b[1m Tool Message \u001b[0m=================================\n",
      "Name: arxiv\n",
      "\n",
      "Published: 2025-05-15\n",
      "Title: AI Agents vs. Agentic AI: A Conceptual Taxonomy, Applications and Challenge\n",
      "Authors: Ranjan Sapkota, Konstantinos I. Roumeliotis, Manoj Karkee\n",
      "Summary: This study critically distinguishes between AI Agents and Agentic AI,\n",
      "offering a structured conceptual taxonomy, application mapping, and challenge\n",
      "analysis to clarify their divergent design philosophies and capabilities. We\n",
      "begin by outlining the search strategy and foundational definitions,\n",
      "characterizing AI Agents \n"
     ]
    }
   ],
   "source": [
    "messages = graph.invoke({\"messages\": \"2505.10468\"})     \n",
    "for m in messages['messages']:\n",
    "    m.pretty_print()"
   ]
  },
  {
   "cell_type": "code",
   "execution_count": 26,
   "id": "218cb9ca",
   "metadata": {},
   "outputs": [
    {
     "data": {
      "image/png": "[encoded data removed]",
      "text/plain": [
       "<IPython.core.display.Image object>"
      ]
     },
     "metadata": {},
     "output_type": "display_data"
    }
   ],
   "source": [
    "# node definition\n",
    "\n",
    "def tool_calling_llm(state:State):\n",
    "    return {\"messages\": [llm_with_tools.invoke(state[\"messages\"])]}\n",
    "\n",
    "#Build the graph\n",
    "builder = StateGraph(State)\n",
    "builder.add_node(\"tool_calling_llm\", tool_calling_llm)\n",
    "builder.add_node(\"tools\", ToolNode(tools))\n",
    "\n",
    "#Edges\n",
    "builder.add_edge(START, \"tool_calling_llm\")\n",
    "builder.add_conditional_edges(\n",
    "    \"tool_calling_llm\",\n",
    "    #If the latest message (result) from assistant is a tool call -> tool condition routes to tools\n",
    "    #If the latest message (result) from assistant is not a tool call -> tools condition routes to tool_calling_llm\n",
    "    tools_condition,\n",
    ")\n",
    "\n",
    "builder.add_edge(\"tools\", \"tool_calling_llm\")\n",
    "\n",
    "graph = builder.compile()\n",
    "\n",
    "# View\n",
    "\n",
    "display(Image(graph.get_graph().draw_mermaid_png()))"
   ]
  },
  {
   "cell_type": "code",
   "execution_count": 27,
   "id": "a2b3cf27",
   "metadata": {},
   "outputs": [
    {
     "name": "stdout",
     "output_type": "stream",
     "text": [
      "================================\u001b[1m Human Message \u001b[0m=================================\n",
      "\n",
      "What is the recent deepseek news and then please tell me the recent research paper on agentic ai?\n",
      "==================================\u001b[1m Ai Message \u001b[0m==================================\n",
      "Tool Calls:\n",
      "  tavily_search_results_json (call_0b5j)\n",
      " Call ID: call_0b5j\n",
      "  Args:\n",
      "    query: Recent news about DeepSeek AI\n",
      "  arxiv (call_a739)\n",
      " Call ID: call_a739\n",
      "  Args:\n",
      "    query: agentic AI\n",
      "=================================\u001b[1m Tool Message \u001b[0m=================================\n",
      "Name: tavily_search_results_json\n",
      "\n",
      "[{\"title\": \"DeepSeek News | Today's Latest Stories - Reuters\", \"url\": \"https://www.reuters.com/technology/deepseek/\", \"content\": \"Latest Stories ; January 30, 2025. Resource-poor Japan was girding for an AI energy surge. DeepSeek raised the stakes. ; January 30, 2025. Chinese state-linked\", \"score\": 0.8573986}, {\"title\": \"DeepSeek's Latest Breakthrough Is Redefining AI Race - CSIS\", \"url\": \"https://www.csis.org/analysis/deepseeks-latest-breakthrough-redefining-ai-race\", \"content\": \"Commentary\\n                     by                                                                                                                                                                                                                                                                                                                                                                                                   \\n\\nYasir Atalan\\n\\nPublished February 3, 2025 [...] From last month to this month, the real change is the efficiency. DeepSeek researchers found a way to get more computational power from NVIDIA chips, allowing foundational models to be trained with significantly less computational power. Smaller companies and startups will now be able to replicate low-cost algorithms and potentially innovate upon them, enabling the development of more affordable and accessible low-tier and specialized AI applications across various domains. [...] On January 20, contrary to what export controls promised, Chinese researchers at DeepSeek released a high-performance large language model (LLM)—R1—at a small fraction of OpenAI’s costs, showing how rapidly Beijing can innovate around U.S. hardware restrictions. This launch was not an isolated event. Ahead of the Lunar New Year, three other Chinese labs announced AI models they claimed could match—even surpass—OpenAI’s o1 performance on key benchmarks. These simultaneous releases, likely to be\", \"score\": 0.85624856}, {\"title\": \"DeepSeek SHOCKS the West AGAIN! Their New AI Model Is ...\", \"url\": \"https://www.youtube.com/watch?v=i_lGjqkvhiA\", \"content\": \"DeepSeek has released a powerful new open-source AI model called V3–0324, which rivals top Western models while running efficiently on local hardware like the Mac Studio. The model uses a mixture-of-experts architecture with 671 billion parameters, supports 128K context length, and is now fully available under the permissive MIT license. This major breakthrough in Chinese AI development is drawing global attention, fueling tech rivalry, and reshaping the landscape for startups, governments, and [...] DeepSeek SHOCKS the West AGAIN! Their New AI Model Is Smarter & Free (V3–0324) \\n AI Revolution \\n 1208 likes \\n 65989 views \\n 26 Mar 2025 \\n 👉🏻Register for 2-Day LIVE Training on AI for FREE: https://link.outskill.com/airevmm [...] 🔍 KEY TOPICS  \\nDeepSeek releases V3–0324, a powerful open-source AI model under the MIT license  \\nThe model uses a mixture-of-experts system with 671 billion parameters and runs on local hardware  \\nV3–0324 supports 128K context length and delivers fast, efficient performance even on a Mac Studio\", \"score\": 0.8409005}, {\"title\": \"How Deepseek is Changing the AI Landscape\", \"url\": \"https://news.gsu.edu/2025/02/04/how-deepseek-is-changing-the-a-i-landscape/\", \"content\": \"Filed Under: Academic Unit News\\n\\nPrimary Sidebar\\n\\nRecent Stories\\n\\nNew Study Reveals Generative AI Boosts Job Growth and Productivity\\n\\nTen Graduate Students Present at Prestigious Analytics Conference\\n\\nCongratulations, Robinson College Class of Spring 2025!\\n\\nUndergrad Finance Students Have $1.4 Million on the Line\\n\\nMaster’s in Information Systems Alumnus Builds AI-Powered Tools for ADP\\n\\nRobinson College of Business\\nNews Hub\\n\\nSend this to a friend [...] By making a powerful AI model open-source, DeepSeek has lowered the barrier to AI development, enabling more researchers, startups, and organizations to build and deploy AI without relying on big tech firms or government-backed research labs. It also challenges the idea that AI progress depends solely on massive computing power, proving that smarter software and hardware optimization can rival brute-force approaches. [...] Main navigation\\n\\nGeorgia State News Hub\\n\\nMain navigation\\n\\nHow Deepseek is Changing the AI Landscape\\n\\nHow Deepseek is Changing the AI Landscape\\n\\nFebruary 4, 2025\\n\\nMedia Contact\\n\\nHolly Frew\\n\\nOffice of Communications & MarketingRobinson College of Business\\n\\n[email protected]\", \"score\": 0.79484755}, {\"title\": \"DeepSeek shakes up AI sector – and other digital tech stories you ...\", \"url\": \"https://www.weforum.org/stories/2025/02/china-deepseek-shakes-up-ai-tech-stories/\", \"content\": \"A new open-source artificial intelligence (AI) model developed by Chinese start-up DeepSeek sent waves through the global tech community last month.\", \"score\": 0.767847}]\n",
      "=================================\u001b[1m Tool Message \u001b[0m=================================\n",
      "Name: arxiv\n",
      "\n",
      "Published: 2025-02-25\n",
      "Title: Responsible AI Agents\n",
      "Authors: Deven R. Desai, Mark O. Riedl\n",
      "Summary: Thanks to advances in large language models, a new type of software agent,\n",
      "the artificial intelligence (AI) agent, has entered the marketplace. Companies\n",
      "such as OpenAI, Google, Microsoft, and Salesforce promise their AI Agents will\n",
      "go from generating passive text to executing tasks. Instead of a travel\n",
      "itinerary, an AI Agent would book all aspects of your trip. Instead of\n",
      "generating text or images\n",
      "==================================\u001b[1m Ai Message \u001b[0m==================================\n",
      "\n",
      "Here's the information based on the latest available data:\n",
      "\n",
      "**Recent DeepSeek News (as of March 2025):**\n",
      "- **Major Breakthrough**: DeepSeek released an open-source AI model (**V3-0324**) with 671 billion parameters, capable of running efficiently on local hardware like the Mac Studio. It supports 128K context length and uses a mixture-of-experts architecture.\n",
      "- **Competitive Edge**: Their model rivals top Western AI systems (e.g., OpenAI’s o1) at a fraction of the computational cost, bypassing U.S. hardware restrictions through software optimizations.\n",
      "- **Industry Impact**: This advancement lowers barriers for startups and researchers, enabling affordable, specialized AI applications. It has intensified global competition, particularly in China’s AI sector.\n",
      "- **Media Coverage**: Outlets like Reuters, CSIS, and the World Economic Forum highlight its role in reshaping the AI race and fostering innovation outside major tech giants.\n",
      "\n",
      "**Latest Research on Agentic AI (from Arxiv, Feb 25, 2025):**\n",
      "- **Paper**: *[Responsible AI Agents](https://arxiv.org/abs/...)* by Deven R. Desai and Mark O. Riedl.\n",
      "- **Focus**: Examines the shift from passive AI (e.g., text generation) to *active AI agents* that execute tasks (e.g., booking trips, managing workflows).\n",
      "- **Key Insight**: Emphasizes ethical and regulatory challenges, arguing that agentic AI requires frameworks to ensure accountability and prevent misuse.\n",
      "- **Significance**: Highlights the need for responsible design as AI moves toward autonomous decision-making.\n",
      "\n",
      "Let me know if you'd like deeper insights on either topic!\n"
     ]
    }
   ],
   "source": [
    "messages = graph.invoke({\"messages\": \"What is the recent deepseek news and then please tell me the recent research paper on agentic ai?\"})\n",
    "for m in messages['messages']:\n",
    "    m.pretty_print()"
   ]
  },
  {
   "cell_type": "markdown",
   "id": "a4ad0404",
   "metadata": {},
   "source": [
    "ReAct framework\n",
    "This last used workflow is the demonstration of the ReAct(Reasoning and Acting) framework of LLM models. Here the tool_calling_llm node will reason first and identify that if it needs to call a tool and how many contexts are there in the provided question or query. Then it will call the appropriate tool(s) based on the identified contexts and provide the final response. This helps in improving the LLM's efficiency and accuracy."
   ]
  },
  {
   "cell_type": "markdown",
   "id": "4b35cfc7",
   "metadata": {},
   "source": [
    "multiple tools like arxiv(for research), wikipedia(info),tavily(search engine)  etc are combined with the llm model qwen of chat groq . llm will reason the query , and calls the respective tools by itself and give a single response."
   ]
  },
  {
   "cell_type": "code",
   "execution_count": null,
   "id": "976a5586",
   "metadata": {},
   "outputs": [],
   "source": []
  }
 ],
 "metadata": {
  "kernelspec": {
   "display_name": "base",
   "language": "python",
   "name": "python3"
  },
  "language_info": {
   "codemirror_mode": {
    "name": "ipython",
    "version": 3
   },
   "file_extension": ".py",
   "mimetype": "text/x-python",
   "name": "python",
   "nbconvert_exporter": "python",
   "pygments_lexer": "ipython3",
   "version": "3.12.4"
  }
 },
 "nbformat": 4,
 "nbformat_minor": 5
}
